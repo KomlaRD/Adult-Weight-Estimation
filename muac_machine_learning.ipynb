{
  "cells": [
    {
      "cell_type": "code",
      "source": [
        "!pip install h2o -q -U"
      ],
      "metadata": {
        "id": "M0HqfnNPdVrc",
        "outputId": "407d68ac-5110-4e70-9825-fe6fda9d8ade",
        "colab": {
          "base_uri": "https://localhost:8080/"
        }
      },
      "execution_count": 1,
      "outputs": [
        {
          "output_type": "stream",
          "name": "stdout",
          "text": [
            "\u001b[2K     \u001b[90m━━━━━━━━━━━━━━━━━━━━━━━━━━━━━━━━━━━━━━━━\u001b[0m \u001b[32m265.8/265.8 MB\u001b[0m \u001b[31m3.8 MB/s\u001b[0m eta \u001b[36m0:00:00\u001b[0m\n",
            "\u001b[?25h  Preparing metadata (setup.py) ... \u001b[?25l\u001b[?25hdone\n",
            "  Building wheel for h2o (setup.py) ... \u001b[?25l\u001b[?25hdone\n"
          ]
        }
      ]
    },
    {
      "cell_type": "code",
      "execution_count": 2,
      "metadata": {
        "id": "SNm42TCHca9g"
      },
      "outputs": [],
      "source": [
        "# Import packages\n",
        "import pandas as pd # Data manipulation\n",
        "import numpy as np # Numeric computation\n",
        "import matplotlib.pyplot as plt # Visualisation\n",
        "import seaborn as sns # Visualisation\n",
        "import h2o # Automated ML\n",
        "from h2o.automl import H2OAutoML #Automated ML"
      ]
    },
    {
      "cell_type": "markdown",
      "metadata": {
        "id": "FLzewaG4ca9i"
      },
      "source": [
        "# Prepare Data\n",
        "## Import"
      ]
    },
    {
      "cell_type": "code",
      "execution_count": null,
      "metadata": {
        "id": "6yCnVeelca9j"
      },
      "outputs": [],
      "source": [
        "# Import dataset"
      ]
    },
    {
      "cell_type": "markdown",
      "metadata": {
        "id": "pz9ZARi4ca9j"
      },
      "source": [
        "## Explore"
      ]
    },
    {
      "cell_type": "code",
      "execution_count": null,
      "metadata": {
        "id": "0VLxhj2tca9k"
      },
      "outputs": [],
      "source": [
        "# Dimensions of the dataset\n"
      ]
    },
    {
      "cell_type": "code",
      "execution_count": null,
      "metadata": {
        "id": "5jB0xl4Nca9k"
      },
      "outputs": [],
      "source": [
        "# Dataset structure\n"
      ]
    },
    {
      "cell_type": "code",
      "execution_count": null,
      "metadata": {
        "id": "L5aWS-zkca9k"
      },
      "outputs": [],
      "source": [
        "# View first five rows\n"
      ]
    },
    {
      "cell_type": "code",
      "execution_count": null,
      "metadata": {
        "id": "JhWc5Ajjca9l"
      },
      "outputs": [],
      "source": [
        "# Describe dataset\n"
      ]
    },
    {
      "cell_type": "code",
      "execution_count": null,
      "metadata": {
        "id": "GrV19TZ7ca9l"
      },
      "outputs": [],
      "source": [
        "# Distributions"
      ]
    },
    {
      "cell_type": "markdown",
      "metadata": {
        "id": "0cHE_ujrca9l"
      },
      "source": [
        "## Split"
      ]
    },
    {
      "cell_type": "code",
      "execution_count": null,
      "metadata": {
        "id": "FQkBHWRmca9l"
      },
      "outputs": [],
      "source": [
        "# Train-test split\n"
      ]
    },
    {
      "cell_type": "code",
      "execution_count": null,
      "metadata": {
        "id": "pHqcwEMhca9m"
      },
      "outputs": [],
      "source": []
    },
    {
      "cell_type": "markdown",
      "metadata": {
        "id": "1JhyRgNYca9m"
      },
      "source": [
        "# Build model\n",
        "## Baseline"
      ]
    },
    {
      "cell_type": "code",
      "execution_count": null,
      "metadata": {
        "id": "jT8at6x9ca9m"
      },
      "outputs": [],
      "source": []
    },
    {
      "cell_type": "markdown",
      "metadata": {
        "id": "329xtth7ca9m"
      },
      "source": [
        "## Iterate"
      ]
    },
    {
      "cell_type": "code",
      "execution_count": null,
      "metadata": {
        "id": "tM7fvHVmca9m"
      },
      "outputs": [],
      "source": [
        "\n"
      ]
    },
    {
      "cell_type": "markdown",
      "metadata": {
        "id": "YiRIdTvfca9m"
      },
      "source": [
        "# Evaluate"
      ]
    },
    {
      "cell_type": "code",
      "execution_count": null,
      "metadata": {
        "id": "HnB0hbYzca9m"
      },
      "outputs": [],
      "source": []
    },
    {
      "cell_type": "markdown",
      "metadata": {
        "id": "-k80N6sBca9m"
      },
      "source": [
        "# Communicate"
      ]
    },
    {
      "cell_type": "code",
      "execution_count": null,
      "metadata": {
        "id": "5E70wO35ca9m"
      },
      "outputs": [],
      "source": []
    }
  ],
  "metadata": {
    "kernelspec": {
      "display_name": "predicting_height",
      "language": "python",
      "name": "python3"
    },
    "language_info": {
      "codemirror_mode": {
        "name": "ipython",
        "version": 3
      },
      "file_extension": ".py",
      "mimetype": "text/x-python",
      "name": "python",
      "nbconvert_exporter": "python",
      "pygments_lexer": "ipython3",
      "version": "3.11.5"
    },
    "colab": {
      "provenance": []
    }
  },
  "nbformat": 4,
  "nbformat_minor": 0
}